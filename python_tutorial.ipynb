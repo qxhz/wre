{
 "cells": [
  {
   "cell_type": "markdown",
   "metadata": {},
   "source": [
    "# Python Tutorial\n",
    "\n",
    "Before starting, learn basic commands of the IDE you are using. \n",
    "\n",
    "If you are using Google Colab: \n",
    "- \"esc\" to unhighlight cell and be in command mode; \"enter\" to go into the cell and type\n",
    "- use \"a\" to create new cell above, \"b\" to create new cell below\n",
    "- use \"z\" to undo\n",
    "- use \"shift\" and \"enter\" at the same time to run cell\n",
    "\n",
    "If you are using Jupyter Notebook, here are some additional commands: \n",
    "\n",
    "- type \"d\" very fast twice to delete cell\n",
    "- type \"m\" to change cell to Markdown\n",
    "- type \"y\" to change cell to Code"
   ]
  },
  {
   "cell_type": "markdown",
   "metadata": {},
   "source": [
    "## Why Python? \n",
    "- clean and simple syntax, very much like English, very easy to learn\n",
    "- free of cost and open source, unlike MATLAB\n",
    "- large library support to do almost everything\n",
    "\n",
    "## Recommended Offline Python IDEs (Integrated Developement Evnironment Software)\n",
    "- Visual Studio Code\n",
    "- Jupyter Notebook\n",
    "- Sublime Text\n",
    "- PyCharm\n",
    "- Atom, Spyder, VIM, etc.\n",
    "\n",
    "## Online Learning Resources\n",
    "- [W3Schools](https://www.w3schools.com/python/)\n",
    "- [Real Python](https://realpython.com)"
   ]
  },
  {
   "cell_type": "markdown",
   "metadata": {},
   "source": [
    "## Part I\n",
    "### Numbers, Variables, Comparisons and Logic\n",
    "\n",
    "#### Type of Numbers\n",
    "- integers\n",
    "    For clarity, it is possible to separate any pair of digits by an underscore character \"_\". Function int() converts input to integer. \n",
    "- float\n",
    "    Any single number containing a period \".\" is considered by Python to specify a floating-point number. As with integers, pairs of digits may be separated by an underscore. Numbers smaller than 0.0001 are displayed in scientific notation. Function float() converts input to float. \n",
    "- complex\n",
    "    A complex number may be specified by either adding a real number to an imaginary one (denoted by the j suffix), as in 2.3+1.2j or by separating the real and imaginary parts in a call to function complex, as in complex(2.3, 1.2). "
   ]
  },
  {
   "cell_type": "code",
   "execution_count": 15,
   "metadata": {},
   "outputs": [
    {
     "data": {
      "text/plain": [
       "<function int.bit_length()>"
      ]
     },
     "execution_count": 15,
     "metadata": {},
     "output_type": "execute_result"
    }
   ],
   "source": []
  },
  {
   "cell_type": "markdown",
   "metadata": {},
   "source": [
    "#### Basic Arithmetic\n",
    "- \"+\" Addition\n",
    "- \"-\" Subtraction\n",
    "- \"*\" Multiplication\n",
    "- \"/\" Floating-point division\n",
    "- \"//\" Integer division\n",
    "- \"%\" Modulus (remainder)\n",
    "- \"**\" Exponentiation\n",
    "\n",
    "Be aware of operator precedence rules. For complex problems, use parantheses to make sure. "
   ]
  },
  {
   "cell_type": "code",
   "execution_count": null,
   "metadata": {},
   "outputs": [],
   "source": []
  },
  {
   "cell_type": "markdown",
   "metadata": {},
   "source": [
    "#### The build-in Math library\n",
    "- import math\n",
    "- from math import * \n",
    "The second one is not recommended. \n",
    "\n",
    "Some functions provided the math module\n",
    "- math.pow(x,y)\n",
    "- math.sqrt(x)\n",
    "- math.exp(x)\n",
    "- math.log(x,b)\n",
    "- math.log10(x)\n",
    "- math.sin(x)\n",
    "- math.atanh(x)\n",
    "- math.hypot(x,y), calculates the Euclindean norm $\\sqrt{x^2+y^2}$\n",
    "- math.factorial(x)\n",
    "- math.degrees(x)\n",
    "- math.radians(x)\n",
    "- math.isclose(a,b, rel_tol=x)\n"
   ]
  },
  {
   "cell_type": "code",
   "execution_count": 1,
   "metadata": {},
   "outputs": [
    {
     "data": {
      "text/plain": [
       "8.0"
      ]
     },
     "execution_count": 1,
     "metadata": {},
     "output_type": "execute_result"
    }
   ],
   "source": [
    "import math\n",
    "math.pow(2,3)"
   ]
  },
  {
   "cell_type": "markdown",
   "metadata": {},
   "source": [
    "***Practice Problem #1***\n",
    "\n",
    "The Manning equation is expressed as $V=\\frac{1}{n}R^{2/3}S_0^{1/2}$. Given n=0.015, R=3000, $S_0$=0.0004, determine the flow velocity $V$"
   ]
  },
  {
   "cell_type": "code",
   "execution_count": null,
   "metadata": {},
   "outputs": [],
   "source": []
  },
  {
   "cell_type": "markdown",
   "metadata": {},
   "source": [
    "#### Comparisons and Logic\n",
    "- \"==\" Equal to\n",
    "- \"!=\" Not equal to\n",
    "- \">\" Greater than\n",
    "- \"<\" Less than\n",
    "- \">=\" Greater than or equal to\n",
    "- \"<=\" Less than or equal to\n",
    "\n",
    "Care should be taken in comparing float numbers for equality. Since they are not stored exactly, calculations involving them frequently lead to loss of precision and this can give unexpected results tothe unwary. For example, \"a=0.01\", \"b=0.1**2\", \"a==b\" returns \"false\". "
   ]
  },
  {
   "cell_type": "code",
   "execution_count": 15,
   "metadata": {},
   "outputs": [
    {
     "name": "stdout",
     "output_type": "stream",
     "text": [
      "False\n",
      "True\n",
      "False\n",
      "0.01\n",
      "0.010000000000000002\n"
     ]
    }
   ],
   "source": [
    "import math\n",
    "a=0.01\n",
    "b=0.1**2\n",
    "print(a==b)\n",
    "print(math.isclose(a,b))\n",
    "print(math.isclose(a,b,rel_tol=1.e-16))\n",
    "print(a)\n",
    "print(b)"
   ]
  },
  {
   "cell_type": "code",
   "execution_count": 17,
   "metadata": {},
   "outputs": [
    {
     "data": {
      "text/plain": [
       "False"
      ]
     },
     "execution_count": 17,
     "metadata": {},
     "output_type": "execute_result"
    }
   ],
   "source": [
    "not a==0.01"
   ]
  },
  {
   "cell_type": "markdown",
   "metadata": {},
   "source": [
    "\n",
    "Logic operators\n",
    "- and\n",
    "- or\n",
    "- not\n",
    "- xor\n",
    "\n",
    "|P|Q|P and Q|\n",
    "|-|-|-|\n",
    "|True|False|False|\n",
    "|False|True|False|\n",
    "|True|True|True|\n",
    "|False|False|False|\n",
    "\n",
    "For \"or\" operator, if either of the bits is true, the output is true. Otherwise, the output is false. \n",
    "\n",
    "|P|Q|P or Q|\n",
    "|-|-|-|\n",
    "|True|False|True|\n",
    "|False|True|True|\n",
    "|True|True|True|\n",
    "|False|False|False|\n",
    "\n",
    "\"xor\" is known as \"exclusive or\". If both bits are the same, the output is False (0). Otherwise, the output is True (1). \n",
    "\n",
    "|P|Q|P xor Q|\n",
    "|-|-|-|\n",
    "|True|False|True|\n",
    "|False|True|True|\n",
    "|True|True|False|\n",
    "|False|False|True|\n",
    "\n",
    "bool(-1) returns True. bool(0.0) returns False. \n",
    "\n",
    "Python's special value: None - specifial type: NoneType"
   ]
  },
  {
   "cell_type": "code",
   "execution_count": 22,
   "metadata": {},
   "outputs": [
    {
     "data": {
      "text/plain": [
       "NoneType"
      ]
     },
     "execution_count": 22,
     "metadata": {},
     "output_type": "execute_result"
    }
   ],
   "source": [
    "x=None\n",
    "type(x)"
   ]
  },
  {
   "cell_type": "markdown",
   "metadata": {},
   "source": [
    "#### Immutability and Identity\n",
    "Immutable objects (integers, booleans, etc.) do not change after they are created, though a variable name maybe reassigned to refer to a different object from the one it was originally assigned to. "
   ]
  },
  {
   "cell_type": "code",
   "execution_count": null,
   "metadata": {},
   "outputs": [
    {
     "name": "stdout",
     "output_type": "stream",
     "text": [
      "140681830187280\n",
      "140681830187280\n",
      "True\n",
      "140681830187216\n",
      "False\n",
      "True\n",
      "True\n"
     ]
    }
   ],
   "source": [
    "a=2432\n",
    "b=a\n",
    "print(id(a))\n",
    "print(id(b))\n",
    "print(a is b)\n",
    "c=2432\n",
    "print(id(c))\n",
    "print(a is c)\n",
    "print(c==a)\n",
    "print(c is not a)"
   ]
  },
  {
   "cell_type": "markdown",
   "metadata": {},
   "source": [
    "a=256\n",
    "b=256\n",
    "\"a is b\" returns True\n",
    "However, a=257, b=257, \"a is b\" return False. \n",
    "\n",
    "This might come as a surprise. This is because Python keeps a cache of commonly used, small integer objects (on my system, the numbers -5 to 256). To improve performance, the assignment a=256 attaches the variable name to the existing integer object without having to allocate new memory for it. "
   ]
  },
  {
   "cell_type": "markdown",
   "metadata": {},
   "source": [
    "***Practice Problem #2***\n",
    "\n",
    "The World Geodetic System is a set of international standards for describing the shape of the Earth. In the latest WGS-84 revision, the Earth's geoid is approximated to a reference ellipsoid that takes the form of an oblate spheroid with semi-major and semi-minor axes a=6378137.0 and c=6356752.314245 m, respectively. Use the formula for the surface area of an oblate spheroid, \n",
    "$$ S_{obl}=2\\pi a^2\\left(1+\\frac{1-e^2}{e}\\text{atanh}(e)\\right) $$\n",
    "where $e^2=1-\\frac{c^2}{a^2}$\n",
    "to calculate the surface area of this reference allipsoid and compare it with the surface area of the Earth assumed to be a sphere with radius 6371 km. "
   ]
  },
  {
   "cell_type": "code",
   "execution_count": null,
   "metadata": {},
   "outputs": [],
   "source": []
  },
  {
   "cell_type": "markdown",
   "metadata": {},
   "source": [
    "***Practice Problem #3***\n",
    "\n",
    "Some languages provide a sign(a) function which returns -1 if its argument, a, is negative and 1 otherwise. Python does not provide such a function, but the math module does include a function math.copysign(x,y), which returns the absolute value of x with the sign of y. How would you use this function in the same way as the missing sign(a) function? "
   ]
  },
  {
   "cell_type": "code",
   "execution_count": 41,
   "metadata": {},
   "outputs": [
    {
     "name": "stdout",
     "output_type": "stream",
     "text": [
      "-1.0\n"
     ]
    }
   ],
   "source": [
    "import math\n",
    "a=-3\n",
    "b=math.copysign(1,a)\n",
    "print(b)"
   ]
  },
  {
   "cell_type": "markdown",
   "metadata": {},
   "source": [
    "#### String\n",
    "A python string object is some constant text enclosed in either single or double quotes. Str() is the build-in function to convert the object passed as its argument to a string. An empty string is defined as s='' or s=\"\". \n",
    "\n",
    "F-string provides a way to embed variables inside a string. It starts from f followed by ''. The variable names need to be in {}. \n",
    "\n",
    "len() is a build-in function to find the number of characters a string has. \n",
    "\n",
    "Strings are immutable. It is not possible to change a string by assignment. For example, the following is an error. \n",
    "\n",
    "s = \"water\"\n",
    "\n",
    "s[0]='W'\n"
   ]
  },
  {
   "cell_type": "code",
   "execution_count": 48,
   "metadata": {},
   "outputs": [
    {
     "name": "stdout",
     "output_type": "stream",
     "text": [
      "The value of a is 42.0\n",
      "The value of a is 42.0\n"
     ]
    },
    {
     "data": {
      "text/plain": [
       "4"
      ]
     },
     "execution_count": 48,
     "metadata": {},
     "output_type": "execute_result"
    }
   ],
   "source": [
    "a=str(42)\n",
    "type(a)\n",
    "a=float(a)\n",
    "type(a)\n",
    "print('The value of a is', a)\n",
    "print(f'The value of a is {a}')\n",
    "len(str(a))"
   ]
  },
  {
   "cell_type": "markdown",
   "metadata": {},
   "source": [
    "## Part II\n",
    "### List\n",
    "List is an ordered, mutable array of objects. A list is constructed by specifying the objects, separated by commas, between square brackets []. \n",
    "\n",
    "An item can be retrieved from the list by indexing it. Remember, Python indexes start from 0. list[0] returns the first object while list[-1] returns the last object. \n",
    "\n",
    "Common list methods\n",
    "- append(element), append element to the end of the list\n",
    "- extend(list2), extend the list with the elements from list2\n",
    "- index(element), return the lowest index of the list containing element\n",
    "- insert(index, element), insert element at index\n",
    "- pop(), remove and return the list\n",
    "- reverse(), reverse the list in place\n",
    "- remove(element), remove the first occurrence of element from the list\n",
    "- sort(), sort the list in place\n",
    "- copy(), return a copy of the list\n",
    "- count(element), return the number of elements equal to the element in the list\n",
    "\n",
    "sort() and sorted() order the items in ascending order. Set the optional argument \"reverse=True\" to return the items in descending order. \n"
   ]
  },
  {
   "cell_type": "code",
   "execution_count": 59,
   "metadata": {},
   "outputs": [
    {
     "name": "stdout",
     "output_type": "stream",
     "text": [
      "30\n",
      "['lab', 'homework', 'exam2', 'exam1']\n"
     ]
    }
   ],
   "source": [
    "list0=()\n",
    "list00=[]\n",
    "list1=[20, 30, 20, 30]\n",
    "list2=['homework','exam1','exam2','lab']\n",
    "list3=[list1,list2]\n",
    "print(list3[0][1])\n",
    "20 in list1\n",
    "'exam3' in list2\n",
    "list2.append('bonus')\n",
    "list2.pop()\n",
    "list2.sort(reverse=True)\n",
    "sorted(list2,reverse=True)\n",
    "print(list2)\n"
   ]
  },
  {
   "cell_type": "markdown",
   "metadata": {},
   "source": [
    "### Tuples\n",
    "A tuple is immutable. An empty tuple is created with empty parantheses t0={}. "
   ]
  },
  {
   "cell_type": "code",
   "execution_count": 64,
   "metadata": {},
   "outputs": [
    {
     "name": "stdout",
     "output_type": "stream",
     "text": [
      "(40.6215, 79.1525)\n",
      "(40.6215, 79.1525)\n",
      "()\n",
      "x= 40.6215 ,  y= 79.1525\n",
      "x= 79.1525 ,  y= 40.6215\n",
      "40.6215\n"
     ]
    }
   ],
   "source": [
    "# The coordinates of Indiana PA is 40.6215 N, 79.1525 W. It can be expressed in tuple\n",
    "t1=40.6215,79.1525\n",
    "print(t1)\n",
    "t2=(40.6215,79.1525)\n",
    "print(t2)\n",
    "# create an empty tuple\n",
    "t0=()\n",
    "print(t0)\n",
    "# Unpack tuple\n",
    "x,y=t1\n",
    "print('x=',x,', ','y=',y)\n",
    "\n",
    "# A convenient way to swap values of the two variables using tuples is as follows. This is more convenient than using a temporary variable. \n",
    "x,y=y,x\n",
    "print('x=',x,', ','y=',y)\n",
    "\n",
    "# Object in tuple can be indexed using the same method as list. \n",
    "print(t1[0])"
   ]
  },
  {
   "cell_type": "markdown",
   "metadata": {},
   "source": [
    "### Dictionary\n",
    "A dictionary stores a collection of ***unordered*** items. "
   ]
  },
  {
   "cell_type": "code",
   "execution_count": 129,
   "metadata": {},
   "outputs": [
    {
     "name": "stdout",
     "output_type": "stream",
     "text": [
      "25\n",
      "{'homework': 20, 'lab': 40, 'exam1': 25, 'exam2': 15, 'bonus': 5}\n",
      "{'homework': 20, 'lab': 40, 'exam1': 25, 'exam2': 15, 'bonus': 10}\n"
     ]
    },
    {
     "data": {
      "text/plain": [
       "{}"
      ]
     },
     "execution_count": 129,
     "metadata": {},
     "output_type": "execute_result"
    }
   ],
   "source": [
    "# to create a dictionary\n",
    "di=dict()\n",
    "di={}\n",
    "di={\"homework\":20, \"lab\":40, \"exam1\":25, \"exam2\":15} # dictionary_name={key1:value1, key2:value2, ...}\n",
    "# to access an item\n",
    "print(di['exam1'])\n",
    "# to add an item\n",
    "di['bonus']=5\n",
    "print(di)\n",
    "# to set a value if the key is in the dictionary\n",
    "di['bonus']=10\n",
    "print(di)\n",
    "# to check whether a key is in a dictionary\n",
    "\"bonus\" in di\n",
    "# use get(key[, default_value]) method to get a value from a dictionary while avoiding an error. if the specified key exists, this method returns its value. Otherwise, the method returns None or the default value if it is supplied. \n",
    "di.get('attendance', 0)\n",
    "# to delete an item\n",
    "del di['bonus'] \n",
    "# The above line will throw out an error if the key is not the dictionary. Using the pop(key[, default_value]) is recommended. The optional second argument is a value to return if the key doesn't exist. This will not throw out an error. \n",
    "di.pop('attendance', 0)\n",
    "# delete all items\n",
    "di.clear()\n",
    "di={}\n",
    "di"
   ]
  },
  {
   "cell_type": "markdown",
   "metadata": {},
   "source": [
    "### Set\n",
    "A set is a collection which is unordered, unchangeable, and unindexed. ***It does not allow duplicate values***. Note: \"unchangeable\" means you cannot change its items after the set has been created, but you can remove items and add new items. Sets are written with curly braces. \n"
   ]
  },
  {
   "cell_type": "code",
   "execution_count": 141,
   "metadata": {},
   "outputs": [
    {
     "name": "stdout",
     "output_type": "stream",
     "text": [
      "{'lab', 'exam2', 'exam1', 'homework'}\n"
     ]
    },
    {
     "data": {
      "text/plain": [
       "4"
      ]
     },
     "execution_count": 141,
     "metadata": {},
     "output_type": "execute_result"
    }
   ],
   "source": [
    "# create a set\n",
    "set1={\"homework\",\"lab\",\"exam1\",\"exam2\"}\n",
    "print(set1)\n",
    "\n",
    "# get the number of items in a set, dictionary, tuple, and list, \n",
    "len(set1)"
   ]
  },
  {
   "cell_type": "markdown",
   "metadata": {},
   "source": [
    "## Part III\n",
    "### Loops\n",
    "\n",
    "#### ***for*** loop\n",
    "for item in iterable object:\n",
    "\n",
    "This yields each element of the iterable object in turn to be processed by the subsequent block of code. ***Note: Four spaces are recommended to indent code.***\n",
    "\n",
    "#### ***while*** loop\n",
    "Whereas a ***for*** loop is established for a fixed number of iterations, statements within a ***while*** loop execute only and as long as some conditions hold. \n",
    "\n",
    "\"while True\" and \"while 1\" are equivalent. It initiates an infinite loop unless some conditions do not hold or it meets ***break*** command in the control flow. "
   ]
  },
  {
   "cell_type": "code",
   "execution_count": 142,
   "metadata": {},
   "outputs": [
    {
     "name": "stdout",
     "output_type": "stream",
     "text": [
      "homework\n",
      "exam2\n",
      "lab\n",
      "exam1\n",
      "0 :  homework\n",
      "1 :  exam2\n",
      "2 :  lab\n",
      "3 :  exam1\n",
      "0\n",
      "1\n",
      "2\n",
      "3\n",
      "(20, 'homework')\n",
      "(30, 'exam2')\n",
      "(20, 'lab')\n",
      "(30, 'exam1')\n",
      "1\n",
      "3\n",
      "5\n",
      "7\n",
      "9\n",
      "1,2,3,4,5,homework\n",
      "lab\n",
      "exam1\n",
      "exam2\n",
      "20\n",
      "40\n",
      "25\n",
      "15\n",
      "homework :, 20\n",
      "lab :, 40\n",
      "exam1 :, 25\n",
      "exam2 :, 15\n",
      "lab\n",
      "exam2\n",
      "exam1\n",
      "homework\n"
     ]
    }
   ],
   "source": [
    "for item in list2:\n",
    "    print(item)\n",
    "\n",
    "# to use the index of the item for looping. \n",
    "for i, item in enumerate(list2):\n",
    "    print(i, ': ', item)\n",
    "\n",
    "# If you do not need to use item name later, you can replace it with an underscore \"_\"\n",
    "for i, _ in enumerate(list2):\n",
    "    print(i)\n",
    "\n",
    "# If you want to iterate over two (or more) sequences at the same time, use the build-in \"zip\" function. \n",
    "for pair in zip(list1,list2):\n",
    "    print(pair)\n",
    "\n",
    "\n",
    "# Use range([a0=0],n,[stride=1]) to generate an iterable object. Note: the object generated by range() is not a list. \n",
    "r=range(1,10,2)\n",
    "type(r)\n",
    "for i in r:\n",
    "    print(i)\n",
    "\n",
    "# Make a list from the range\n",
    "r=list(r)\n",
    "type(r)\n",
    "\n",
    "i=0\n",
    "while i<5:\n",
    "    i+=1\n",
    "    print(i, end=',')\n",
    "\n",
    "# Loop through keys and values in a dictionary\n",
    "di={\"homework\":20, \"lab\":40, \"exam1\":25, \"exam2\":15}\n",
    "for item1 in di.keys():\n",
    "    print(item1)\n",
    "\n",
    "for item2 in di.values():\n",
    "    print(item2)\n",
    "\n",
    "for item1, item2 in di.items():\n",
    "    print(item1,\":,\",item2)\n",
    "\n",
    "# Loop through a set\n",
    "for item in set1:\n",
    "    print(item)"
   ]
  },
  {
   "cell_type": "markdown",
   "metadata": {},
   "source": [
    "***Practice Problem #4***\n",
    "\n",
    "The Fibonacci sequence is the sequence of numbers generated by applying the rules: \n",
    "$$ a_1=a_2=1, ~~~a_i=a_{i-1}+a_{i-2} $$\n",
    "That is, the 'i'th Fibonacci number is the sum of the previous two: 1, 1, 2, 3, 5, 8, 13, ... Generate the first 100 Fibonacci series numbers into a list. "
   ]
  },
  {
   "cell_type": "code",
   "execution_count": null,
   "metadata": {},
   "outputs": [],
   "source": []
  },
  {
   "cell_type": "markdown",
   "metadata": {},
   "source": [
    "***Practice Problem #5***\n",
    "\n",
    "Use \"for\" loop to calculate $\\pi$ from the first 20 terms of the Madhava series: \n",
    "$$ \\pi=\\sqrt{12}\\left(1-\\frac{1}{3\\cdot3}+\\frac{1}{5\\cdot3^2}-\\frac{1}{7\\cdot3^3}+...\\right) $$"
   ]
  },
  {
   "cell_type": "code",
   "execution_count": null,
   "metadata": {},
   "outputs": [],
   "source": []
  },
  {
   "cell_type": "markdown",
   "metadata": {},
   "source": [
    "### Control Flow\n",
    "- if...elif...else\n",
    "- break\n",
    "- continue\n",
    "- pass"
   ]
  },
  {
   "cell_type": "code",
   "execution_count": 88,
   "metadata": {},
   "outputs": [
    {
     "name": "stdout",
     "output_type": "stream",
     "text": [
      "The mean flow rate is  230.77777777777777\n",
      "The number of flowrates less than 50 is 6\n",
      "You got 9\n",
      "You got 10\n",
      "score ends at  11\n"
     ]
    }
   ],
   "source": [
    "# Flow rates from a reservoir are measured and stored in a list: \n",
    "rates=[30,20,10,15,22,48,90,100,347,232,232,389,334,232,121]\n",
    "# Let's say the flow rates less than 50 are neglible. Only average the flow rates greater than 50 to obtain the mean flow rate. \n",
    "mean=0\n",
    "i=0\n",
    "j=0\n",
    "sum=0\n",
    "for rate in rates:\n",
    "    if rate>50:\n",
    "        sum+=rate\n",
    "        i+=1\n",
    "    else:\n",
    "        j+=1\n",
    "mean=sum/i\n",
    "print('The mean flow rate is ', mean)\n",
    "print('The number of flowrates less than 50 is', j)\n",
    "\n",
    "score=0\n",
    "while True:\n",
    "    score+=1\n",
    "    if score<9:\n",
    "        continue\n",
    "    elif score>=9 and score<=10:\n",
    "        pass\n",
    "    else:\n",
    "        break\n",
    "    print('You got', score)\n",
    "print('Score ends at ',score)"
   ]
  },
  {
   "cell_type": "markdown",
   "metadata": {},
   "source": [
    "***Practice Problem #6***\n",
    "\n",
    "The iterative weak acid approximation determines the hydrogen ion concentration, $[H^+]$, of an acid solution from the acid dissociation constant, $K_a$, and the acid concentration, $c$, by successive application of the formula\n",
    "$$ [H^+]_{n-1}=\\sqrt{K_a(c-[H^+]_n)} $$\n",
    "starting with $[H^+]_0=0$. The iterations are continued until $[H^+]$ changes by less than some predetermined, small tolerance value. \n",
    "\n",
    "Use this method to determine the hydrogen ion concentration, and hence the pH ($=-log_{10}[H^+]$) of a $c=0.01~M$ solution of acetic acid ($K_a=1.78\\times10^{-5}$). Use the tolerance TOL=1.e-10."
   ]
  },
  {
   "cell_type": "code",
   "execution_count": null,
   "metadata": {},
   "outputs": [],
   "source": []
  },
  {
   "cell_type": "markdown",
   "metadata": {},
   "source": [
    "## Part IV\n",
    "### Functions\n",
    "The ***def*** statement defines a function, gives it a name and lists the argument (if any) that the function expects to receive when called. "
   ]
  },
  {
   "cell_type": "code",
   "execution_count": 89,
   "metadata": {},
   "outputs": [
    {
     "name": "stdout",
     "output_type": "stream",
     "text": [
      "9\n"
     ]
    }
   ],
   "source": [
    "def square(x):\n",
    "    squared=x**2\n",
    "    return squared\n",
    "print(square(3))"
   ]
  },
  {
   "cell_type": "markdown",
   "metadata": {},
   "source": [
    "A function can define and use its own variables. When it does so, those variables are ***local*** to that function: they are not available outside the function. Conversely, variables assigned outside all function defs are ***global*** and are available everywhere within the program file. \n",
    "\n",
    "If you really want to use a locally defined variable outside, use the keyword ***global*** within the local function to define it. Note: this can lead to confusing code in longer programs, and thus is not recommended. \n",
    "\n",
    "#### Passing Arguments to Functions"
   ]
  },
  {
   "cell_type": "code",
   "execution_count": 91,
   "metadata": {},
   "outputs": [
    {
     "name": "stdout",
     "output_type": "stream",
     "text": [
      "(9, 16)\n"
     ]
    }
   ],
   "source": [
    "def square(x,y):\n",
    "    global squared\n",
    "    squared=(x**2,y**2)\n",
    "square(3,4)\n",
    "print(squared)"
   ]
  },
  {
   "cell_type": "markdown",
   "metadata": {},
   "source": [
    "### lambda functions\n",
    "A lambda function in Python is a type of simple anonymous function. The executable body of a lambda function must be an expression and not a statement; that is, it may not contain, for example, loop blocks, conditionals or print statements. It differs from the way a regular function def would be used. "
   ]
  },
  {
   "cell_type": "code",
   "execution_count": 4,
   "metadata": {},
   "outputs": [
    {
     "data": {
      "text/plain": [
       "125"
      ]
     },
     "execution_count": 4,
     "metadata": {},
     "output_type": "execute_result"
    }
   ],
   "source": [
    "f = lambda x: x**2-3*x+2\n",
    "f(4.)\n",
    "f = lambda x,y: x**2+2*x*y+y**2\n",
    "f(2.,3.)\n",
    "\n",
    "# The lambda functions do not need to be named if they are just to be stored in a list and so can be defined as items \"inline\" with the list construction\n",
    "flist = [lambda x:1, lambda x:x, lambda x:x**2, lambda x:x**3]\n",
    "flist[3](5)"
   ]
  },
  {
   "cell_type": "markdown",
   "metadata": {},
   "source": [
    "***Practice Problem #7***\n",
    "\n",
    "The range of a water beam projected at an angle $\\alpha$ to the sky and speed $v$ on flat terrain is\n",
    "$$ R=\\frac{v^2\\sin2\\alpha}{g} $$\n",
    "where $g$ is the acceleration due to gravity, which may be taken to be 9.81 $m/s^2$. The maximum height attained by the water beam is given by\n",
    "$$ H=\\frac{v^2\\sin^2\\alpha}{2g} $$\n",
    "Write a function to calculate and return the range kand maximum height of a water beam, taking $\\alpha$ and $v$ as arguments. Test it with the values $v=10~m/s$ and $\\alpha=30\\degree$. "
   ]
  },
  {
   "cell_type": "code",
   "execution_count": null,
   "metadata": {},
   "outputs": [],
   "source": []
  },
  {
   "cell_type": "markdown",
   "metadata": {},
   "source": [
    "## Part V\n",
    "### The ***random*** module\n",
    "For simulations, modeling, and some numerical algorithms, it is often necessary to generate random numbers from some distribution. \n",
    "\n",
    "The basic random-number method is random.random. It generates a random number selected from the uniform distribution in the semi-open interval [0,1) - that is, including 0 but not including 1. "
   ]
  },
  {
   "cell_type": "code",
   "execution_count": 108,
   "metadata": {},
   "outputs": [
    {
     "name": "stdout",
     "output_type": "stream",
     "text": [
      "['homework', 'exam2', 'lab', 'exam1']\n"
     ]
    },
    {
     "data": {
      "text/plain": [
       "[3350, 2644, 7198, 9013, 8485]"
      ]
     },
     "execution_count": 108,
     "metadata": {},
     "output_type": "execute_result"
    }
   ],
   "source": [
    "import random\n",
    "random.random()\n",
    "# seed with a fixed value\n",
    "random.seed(42)\n",
    "# The number \"42\" was apparently chosen as a tribute to the \"Hitch-hiker's Guide\" books by Douglas Adams, as it was supposedly the answer to the great question of \"Life, the universe, and everything\" as calculated by a computer (named \"Deep Thought\") created specifically to solve it.\n",
    "random.random()\n",
    "random.random()\n",
    "\n",
    "# To select a random float number, N, from a given range, a<=N<=b, use\n",
    "random.uniform(-2.,2.)\n",
    "\n",
    "# To return a number form the normal distribution with mean, mu, and standard deviation, sigma, use\n",
    "random.normalvariate(100,15)\n",
    "\n",
    "# To select a random integer, N, in a given range, a<=N<=b, use\n",
    "random.randint(5,10)\n",
    "\n",
    "# To select an item at random from a sequence such as a list\n",
    "random.choice(list2)\n",
    "\n",
    "# To randomly shuffle the items of a sequence in place: \n",
    "random.shuffle(list2)\n",
    "print(list2)\n",
    "\n",
    "# To draw a list of k unique elements from a sequence or set (without replacement) population, use random.sample(population,k)\n",
    "random.seed() # Reset the random number by removing the random seed\n",
    "raffle_numbers=range(1,10001)\n",
    "winners=random.sample(raffle_numbers,5)\n",
    "winners"
   ]
  },
  {
   "cell_type": "markdown",
   "metadata": {},
   "source": [
    "***Practice Problem #8\n",
    "\n",
    "Create a list containing 100 numbers from 201 to 300. Randomly select 70 numbers from the list and store them in list 1 and store the remaining 30 numbers in list 2. "
   ]
  },
  {
   "cell_type": "code",
   "execution_count": null,
   "metadata": {},
   "outputs": [],
   "source": []
  },
  {
   "cell_type": "markdown",
   "metadata": {},
   "source": [
    "### The ***datetime*** module"
   ]
  },
  {
   "cell_type": "code",
   "execution_count": 159,
   "metadata": {},
   "outputs": [
    {
     "name": "stdout",
     "output_type": "stream",
     "text": [
      "1 day, 17:53:34\n"
     ]
    },
    {
     "data": {
      "text/plain": [
       "'March 22, 12:53 PM'"
      ]
     },
     "execution_count": 159,
     "metadata": {},
     "output_type": "execute_result"
    }
   ],
   "source": [
    "import datetime\n",
    "datetime.date.today()\n",
    "datetime.datetime.now()\n",
    "# Note: date and datetime in the middle are submodules of the imported datetime library. \n",
    "\n",
    "sampling_date=datetime.datetime(2021,12,20,14,30)\n",
    "analyzing_date=datetime.datetime(2021,12,22,8,23,34)\n",
    "\n",
    "# get the time span between two date objects\n",
    "preservation_time=analyzing_date-sampling_date\n",
    "print(preservation_time)\n",
    "preservation_time.days\n",
    "preservation_time.seconds\n",
    "\n",
    "# add and subtract a span of time\n",
    "submission_date=analyzing_date+datetime.timedelta(days=90,hours=3,minutes=90)\n",
    "submission_date\n",
    "\n",
    "# to format dates and times, use strftime() method to convert a date/time object to a formatted string\n",
    "# %a Abbreviated weekday name, e.g. Sat\n",
    "# %A Full weekday name, e.g. Saturday\n",
    "# %b Abbreviated month name, e.g. Oct\n",
    "# %B Full month name, e.g. October\n",
    "# %d Zero-padded day of month as a number, e.g. 01\n",
    "# %m Zero-padded month as a number, e.g. 01\n",
    "# %Y 4-digit year, e.g. 2021\n",
    "# %y 2-digit year, e.g. 21\n",
    "# %H Hour of day in 24-hour format, e.g. 13\n",
    "# %I Hour of day in 12-hour format, e.g. 01\n",
    "# %M Minutes as number, e.g. 59\n",
    "# %S Second as number, e.g. 59\n",
    "# %p AM/PM specifier, e.g. AM\n",
    "# %f Microsecond, e.g. 0153219\n",
    "# %c Date and time formatted for locale, e.g. Tue Dec 21 08:52:14 2021\n",
    "# %x Date formatted for locale, e.g. 12/21/21\n",
    "# %X Time formatted for locale, e.g. 08:52:14\n",
    "submission_date.strftime(\"%c\")\n",
    "submission_date.strftime(\"%Y-%m-%d\")\n",
    "submission_date.strftime(\"%B %d, %I:%M %p\")"
   ]
  },
  {
   "cell_type": "code",
   "execution_count": null,
   "metadata": {},
   "outputs": [],
   "source": []
  }
 ],
 "metadata": {
  "interpreter": {
   "hash": "5192a91fef35d7a0cb0b89c889d70296233ca811b238617201211c8ee3cce111"
  },
  "kernelspec": {
   "display_name": "Python 3.8.8 64-bit ('base': conda)",
   "language": "python",
   "name": "python3"
  },
  "language_info": {
   "codemirror_mode": {
    "name": "ipython",
    "version": 3
   },
   "file_extension": ".py",
   "mimetype": "text/x-python",
   "name": "python",
   "nbconvert_exporter": "python",
   "pygments_lexer": "ipython3",
   "version": "3.8.8"
  },
  "orig_nbformat": 4
 },
 "nbformat": 4,
 "nbformat_minor": 2
}
