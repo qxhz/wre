{
 "cells": [
  {
   "cell_type": "markdown",
   "metadata": {},
   "source": [
    "# NumPy Tutorial\n",
    "Numpy has become the de facto standard package for general scientific computing in Python. Its core object is ndarray, a multidimensional array of a single data type, which can be sorted, reshaped, subject to mathematical operations and statistical analysis. It supports vectorization: a single operation can be carried out on an entire array, rather than requiring an explicit loop over the array's element. For example: \n",
    "\n",
    "c=[]\n",
    "\n",
    "for i in range(n)\n",
    "\n",
    "    c.append(a[i]*b[i])\n",
    "\n",
    "if using NumPy arrays:\n",
    "\n",
    "c=a*b\n",
    "\n",
    "To use it, \n",
    "\n",
    "import numpy as np\n",
    "\n",
    "You may refer to the NumPy User Guide for more details beyond this tutorial. \n",
    "[https://numpy.org/doc/stable/user/index.html](https://numpy.org/doc/stable/user/index.html)\n",
    "\n"
   ]
  },
  {
   "cell_type": "code",
   "execution_count": 23,
   "metadata": {},
   "outputs": [
    {
     "data": {
      "text/plain": [
       "array([[ 0.,  0.,  0.],\n",
       "       [ 0.,  2.,  4.],\n",
       "       [ 0.,  4.,  8.],\n",
       "       [ 0.,  6., 12.]])"
      ]
     },
     "execution_count": 23,
     "metadata": {},
     "output_type": "execute_result"
    }
   ],
   "source": [
    "import numpy as np\n",
    "\n",
    "# Basic array creation\n",
    "a = np.array((100,101,102,103))\n",
    "b = np.array([[1.,2.],[3.,4.]])\n",
    "\n",
    "b[0,1] # same as b[(0,1)]\n",
    "b[1,1]=0 # also for assignment\n",
    "\n",
    "np.array([-1,0,2.]) # mixture of int and float: upcast to float\n",
    "\n",
    "# You can also explictly set the data type using optional dtype argument\n",
    "np.array([0,4,-4], dtype=complex)\n",
    "\n",
    "# Declare an array of a particular shape filled with default or arbitrary values. \n",
    "np.empty((2,2)) # initial element values undefined. Random junk defined from whatever were the contents of the memory that Python allocated for the array\n",
    "np.zeros((3,2))\n",
    "np.ones((3,3),dtype=int)\n",
    "\n",
    "# If you already have an array and would like to create another with the same shape, \n",
    "np.ones_like(a)\n",
    "np.zeros_like(a,dtype=float)\n",
    "\n",
    "# Initialize an array from a sequence\n",
    "np.arange(7)\n",
    "np.arange(1.5,3.,0.5)\n",
    "np.linspace(1,20,5) # generate an evenly spaced array of the five numbers between 1 and 20 inclusive\n",
    "x,dx=np.linspace(0.,2*np.pi,100,retstep=True) # np.linspace has a couple of optional boolean arguments. Setting retstep to True returns the number spacing (step size)\n",
    "dx\n",
    "\n",
    "x=np.linspace(0,5,5, endpoint=False) # Setting endpoint to False omits the final point in the sequence, as for np.arange\n",
    "x\n",
    "\n",
    "# Initialize an array from a function\n",
    "def f(i,j):\n",
    "    return 2*i*j\n",
    "np.fromfunction(f,(4,3))\n",
    "np.fromfunction(lambda i,j:2*i*j,(4,3))\n"
   ]
  },
  {
   "cell_type": "markdown",
   "metadata": {},
   "source": [
    "***Practice Problem #1***\n",
    "\n",
    "Create a \"comb\" of values in an array of length N for which every nth element is one but with zeros everywhere else. Let's say N=100, n=5. "
   ]
  },
  {
   "cell_type": "code",
   "execution_count": 27,
   "metadata": {},
   "outputs": [
    {
     "name": "stdout",
     "output_type": "stream",
     "text": [
      "[1 0 0 0 0 1 0 0 0 0 1 0 0 0 0 1 0 0 0 0 1 0 0 0 0 1 0 0 0 0 1 0 0 0 0 1 0\n",
      " 0 0 0 1 0 0 0 0 1 0 0 0 0 1 0 0 0 0 1 0 0 0 0 1 0 0 0 0 1 0 0 0 0 1 0 0 0\n",
      " 0 1 0 0 0 0 1 0 0 0 0 1 0 0 0 0 1 0 0 0 0 1 0 0 0 0]\n"
     ]
    }
   ],
   "source": [
    "N,n=100,5\n",
    "def f(i):\n",
    "    return(i%n==0)*1\n",
    "comb=np.fromfunction(f,(N,),dtype=int)\n",
    "print(comb)"
   ]
  },
  {
   "cell_type": "code",
   "execution_count": 41,
   "metadata": {},
   "outputs": [
    {
     "data": {
      "text/plain": [
       "<memory at 0x7f79d88d81c0>"
      ]
     },
     "execution_count": 41,
     "metadata": {},
     "output_type": "execute_result"
    }
   ],
   "source": [
    "comb.shape # (rows, columns)\n",
    "b.shape\n",
    "comb.ndim\n",
    "comb.size\n",
    "comb.dtype\n",
    "comb.data"
   ]
  },
  {
   "cell_type": "markdown",
   "metadata": {},
   "source": [
    "## Universal Functions\n",
    "In addition to the basic arithmetic operations of addition, division and more, NumPy provides many of the familiar mathematical functions that the math module does, implemented as so-called universal functions that act on each element of an array, producing an array in return without the need for an explicit loop. Universal functions are the way NumPy allows for vectorization, which promotes clean, efficient and easy-to-maintain code. "
   ]
  },
  {
   "cell_type": "code",
   "execution_count": 56,
   "metadata": {},
   "outputs": [
    {
     "name": "stdout",
     "output_type": "stream",
     "text": [
      "[False False False False  True  True]\n",
      "[ True  True False False  True  True]\n"
     ]
    }
   ],
   "source": [
    "x = np.linspace(1,5,5)\n",
    "x**2\n",
    "x-1\n",
    "np.sqrt(x-1)\n",
    "y=np.exp(-np.linspace(0.,2.,5))\n",
    "np.sin(x-y)\n",
    "\n",
    "# Array multiplication occurs elementwise: matrix multiplication is implemented by the @ operator or NumPy's dot function\n",
    "a = np.array(((1,2),(3,4)))\n",
    "b = a\n",
    "a*b # elementwise multiplication\n",
    "a@b # matrix multiplication; also a.dot(b) or np.dot(a,b)\n",
    "np.dot(a,b)\n",
    "a.sum() #sum together all numbers in the array\n",
    "\n",
    "# Comparison and logic operators (~,& and | for not, and and or, respectively) are also vectorized and result in arrays of boolean values:\n",
    "a = np.linspace(1,6,6)**3\n",
    "print(a>100)\n",
    "print((a<10) | (a>100))"
   ]
  },
  {
   "cell_type": "markdown",
   "metadata": {},
   "source": [
    "## Changing the Shape of an Array\n"
   ]
  },
  {
   "cell_type": "code",
   "execution_count": 80,
   "metadata": {},
   "outputs": [
    {
     "name": "stdout",
     "output_type": "stream",
     "text": [
      "[[1. 2.]\n",
      " [3. 4.]]\n",
      "[1. 2. 3. 4.]\n",
      "[[-99.   2.]\n",
      " [  3.   4.]]\n",
      "[-99.   2.   3.   4.]\n"
     ]
    },
    {
     "data": {
      "text/plain": [
       "[array([0, 1]), array([2]), array([3, 4]), array([5])]"
      ]
     },
     "execution_count": 80,
     "metadata": {},
     "output_type": "execute_result"
    }
   ],
   "source": [
    "# flatten and ravel\n",
    "a = np.array([[1,2,3],[4,5,6],[7,8,9]])\n",
    "b = a.flatten() # create an independent, flattened copy of a\n",
    "b[3]=0\n",
    "a # a is unchanged\n",
    "# Assignemnt to b didn't change a because they are completely independent objects that do not share their data\n",
    "\n",
    "c = a.ravel()\n",
    "c[3]=0\n",
    "c\n",
    "a # a is changed\n",
    "# The flattened array created by taking a view on a with ravel refers to the same underlying data. \n",
    "\n",
    "# resize and reshape\n",
    "a = np.linspace(1,4,4)\n",
    "a.resize(2,2) # reshapes a in place, doesn't return anything\n",
    "\n",
    "# The reshape method returns a view on the array with its elements reshaped as required. The original array is not modified, but the objects share the same underlying data. \n",
    "a = np.linspace(1,4,4)\n",
    "b = a.reshape(2,2)\n",
    "print(b)\n",
    "print(a)\n",
    "b[0,0]=-99\n",
    "print(b)\n",
    "print(a)\n",
    "\n",
    "# Transpose an Array\n",
    "a = np.linspace(1,6,6).reshape(3,2)\n",
    "a.transpose()\n",
    "a.T\n",
    "\n",
    "b = np.array([100,101,102,103])\n",
    "b.transpose() # transpose a one-dimensional array returns the array unchanged\n",
    "\n",
    "# Merging and splitting arrays\n",
    "a = np.array([0,0,0,0])\n",
    "b = np.array([1,1,1,1])\n",
    "c = np.array([2,2,2,2])\n",
    "np.vstack((a,b,c)) #stack arrays vertically\n",
    "np.hstack((a,b,c)) #stack arrays horizontally\n",
    "np.dstack((a,b,c)) #stack arrays depthwise (along a third axis)\n",
    "# Note that the array created contains an independent copy of the data from the original arrays\n",
    "\n",
    "a=np.arange(6)\n",
    "np.hsplit(a,3) # the array is split into 3 equal-sized arrays\n",
    "np.hsplit(a,(2,3,5)) # the array is split on those indexes\n"
   ]
  },
  {
   "cell_type": "markdown",
   "metadata": {},
   "source": [
    "## Indexing and Slicing an Array"
   ]
  },
  {
   "cell_type": "code",
   "execution_count": 96,
   "metadata": {},
   "outputs": [
    {
     "data": {
      "text/plain": [
       "array([[0., 1., 2., 3., 4., 5.],\n",
       "       [0., 1., 2., 3., 4., 5.],\n",
       "       [0., 1., 2., 3., 4., 5.],\n",
       "       [0., 1., 2., 3., 4., 5.]])"
      ]
     },
     "execution_count": 96,
     "metadata": {},
     "output_type": "execute_result"
    }
   ],
   "source": [
    "a = np.linspace(1,6,6)\n",
    "a[1:4:2] # a stride of 2 from element a[1] to element a[4]: index 1 and 3\n",
    "a[3::-2] # a stride of -2 from a[3] to a[0]: index 3 and 1\n",
    "\n",
    "# multidimensional arrays\n",
    "a = np.linspace(1,12,12).reshape(4,3)\n",
    "a[3,1]\n",
    "a[2,:] #everything in the third row\n",
    "a[:,1] #everything in the second column\n",
    "a[1:-1,1:] #middle rows, second column onwards\n",
    "\n",
    "# The special ellipsis notation (...) is useful for high-rank arrays: in an index, it represents as many colons as are necessary to represent the remaining axes. For example, for a four-dimensional array, a[3,1,...] is equivalent to a[3,1,:,:] and a[3,...,1] is equivalent to a[3,:,:,1]\n",
    "\n",
    "# The colon and ellipsis syntax also works for assignment\n",
    "a[:,1]=0\n",
    "a[::2,:]\n",
    "a[2:,:2]\n",
    "a[1::2,::2]\n",
    "\n",
    "# Instead of indexing an array with a sequence of integers, it is also possible to use an array of boolean values. The True elements of this indexing array identify elements in the target array to be returned. \n",
    "a = np.array([-2,-1,0,1,2])\n",
    "ia = np.array([False, True, False, True, True])\n",
    "a[ia]\n",
    "ib=a<0\n",
    "a[ib]\n",
    "# it is not necessary to store the intermediate boolean array, ib\n",
    "a[a<0]\n",
    "\n",
    "# Meshes: To evaluate a multidimensional function on a grid of points, a mesh is useful. The function np.meshgrid passes a series of one-dimensional arrays representing coordinates along each dimension and returns a set of N-dimensional arrays comprising a mesh of coordinates at which the function can be evaluated. \n",
    "x = np.linspace(0,5,6)\n",
    "y = np.linspace(0,3,4)\n",
    "X,Y = np.meshgrid(x,y)\n",
    "X"
   ]
  },
  {
   "cell_type": "markdown",
   "metadata": {},
   "source": [
    "## Maximum and Minimum Values"
   ]
  },
  {
   "cell_type": "code",
   "execution_count": 103,
   "metadata": {},
   "outputs": [
    {
     "data": {
      "text/plain": [
       "array([0, 2, 2, 1])"
      ]
     },
     "execution_count": 103,
     "metadata": {},
     "output_type": "execute_result"
    }
   ],
   "source": [
    "a = np.array([[3,0,-1,1],[2,-1,-2,4],[1,7,0,4]])\n",
    "a.min() #global minimum\n",
    "a.max() #global maximum\n",
    "a.min(axis=0) #minima in each column\n",
    "a.max(axis=1) #maxima in each row\n",
    "\n",
    "# often, one wants not the maximum (or minimum) value itself but its index in the array. This is what the methods argmin and argmax do. \n",
    "a.argmin() #by default, the index returned is into the flattened array, so the actual value can be retrieved using a view on the array created by ravel. \n",
    "a.ravel()[a.argmin()]\n",
    "a.argmax(axis=0) #row indexes of maxima in each column"
   ]
  },
  {
   "cell_type": "markdown",
   "metadata": {},
   "source": [
    "***Practice Problem #2***\n",
    "\n",
    "$$ f(x)=x^4-2x^3+7x^2-8x+9 $$\n",
    "x is between -100 and 100. Find the global minimum x and f(x) values. "
   ]
  },
  {
   "cell_type": "code",
   "execution_count": 114,
   "metadata": {},
   "outputs": [
    {
     "data": {
      "text/plain": [
       "0.7007007007007076"
      ]
     },
     "execution_count": 114,
     "metadata": {},
     "output_type": "execute_result"
    },
    {
     "data": {
      "image/png": "[encoded data removed]",
      "text/plain": [
       "<Figure size 432x288 with 1 Axes>"
      ]
     },
     "metadata": {
      "needs_background": "light"
     },
     "output_type": "display_data"
    }
   ],
   "source": [
    "import matplotlib.pyplot as plt\n",
    "%matplotlib inline\n",
    "\n",
    "x=np.linspace(-100,100,1000)\n",
    "y=x**4-2*x**3+7*x**2-8*x+9\n",
    "plt.plot(x,y,'-')\n",
    "\n",
    "ymin=np.argmin(y)\n",
    "xmin=x[ymin]\n",
    "xmin"
   ]
  },
  {
   "cell_type": "markdown",
   "metadata": {},
   "source": [
    "## Sorting an Array"
   ]
  },
  {
   "cell_type": "code",
   "execution_count": 123,
   "metadata": {},
   "outputs": [
    {
     "data": {
      "text/plain": [
       "array([3, 0, 1])"
      ]
     },
     "execution_count": 123,
     "metadata": {},
     "output_type": "execute_result"
    }
   ],
   "source": [
    "# The sort method orders the numbers in an array in place. By default, this method sorts multidimensional arrays along their last axis. \n",
    "a = np.array([5,-1,2,4,0,4])\n",
    "a.sort()\n",
    "b = np.array([[0,3,-2],[7,1,3],[4,0,-1]])\n",
    "b.sort()\n",
    "\n",
    "b = np.array([[0,3,-2],[7,1,3],[4,0,-1]])\n",
    "b.sort(axis=0) #sort the numbers along each column\n",
    "\n",
    "a = np.array([3,0,-1,1])\n",
    "np.argsort(a) #returns the indexes that would sort an array rather than the sorted elements themselves, therefore\n",
    "a[np.argsort(a)] # this is the sorted array\n",
    "\n",
    "# The method np.searchsorted takes a sorted array, a, and one or more values, v, and returns the indexes in a at which the values should be entered to maintain its order:\n",
    "a = np.array([1,2,3,4])\n",
    "np.searchsorted(a,3.5)\n",
    "np.searchsorted(a,(3.5,0,1.1))"
   ]
  },
  {
   "cell_type": "markdown",
   "metadata": {},
   "source": [
    "## Arrays as Vectors"
   ]
  },
  {
   "cell_type": "code",
   "execution_count": 128,
   "metadata": {},
   "outputs": [
    {
     "data": {
      "text/plain": [
       "array([ -6, -11,  -2])"
      ]
     },
     "execution_count": 128,
     "metadata": {},
     "output_type": "execute_result"
    }
   ],
   "source": [
    "a = np.array([1,0,-3])\n",
    "b = np.array([2,-2,5])\n",
    "a.dot(b) #or a@b or b.dot(a) or np.dot(a,b)\n",
    "np.cross(a,b) "
   ]
  },
  {
   "cell_type": "code",
   "execution_count": 136,
   "metadata": {},
   "outputs": [
    {
     "data": {
      "text/plain": [
       "(3, 1)"
      ]
     },
     "execution_count": 136,
     "metadata": {},
     "output_type": "execute_result"
    }
   ],
   "source": [
    "a = np.array([[1],[0],[-3]]) # note: this is column vector, not row vector\n",
    "b = np.array([[2],[-2],[5]])\n",
    "# np.dot(a,b) will throw out an error because shapes (3,1) and (3,1) are not aligned. \n",
    "a.T[0] #transpose to row vector\n",
    "np.dot(a.T[0],b.T[0])\n",
    "a.ravel()@b.ravel() # the same as a.ravel().dot(b.ravel())\n",
    "\n",
    "# To turn a row vector represented by a one-dimensional array of shape (n,) into a column vector of shape (n,1), add an axis:\n",
    "r = np.array([3,4,5])\n",
    "r.shape\n",
    "c=r[:,np.newaxis]\n",
    "c.shape"
   ]
  },
  {
   "cell_type": "markdown",
   "metadata": {},
   "source": [
    "***Practice Problem #3***\n",
    "\n",
    "Write a statement that returns True if an array is a monotonically increasing sequence or False otherwise. \n",
    "\n",
    "Hint: np.diff returns the difference between consecutive elements of a sequence. For example:"
   ]
  },
  {
   "cell_type": "code",
   "execution_count": 230,
   "metadata": {},
   "outputs": [
    {
     "data": {
      "text/plain": [
       "5.500000000000001"
      ]
     },
     "execution_count": 230,
     "metadata": {},
     "output_type": "execute_result"
    }
   ],
   "source": [
    "a = np.linspace(0,1,11)\n",
    "np.diff(a)"
   ]
  },
  {
   "cell_type": "markdown",
   "metadata": {},
   "source": [
    "## Statistical Methods\n"
   ]
  },
  {
   "cell_type": "code",
   "execution_count": 153,
   "metadata": {},
   "outputs": [
    {
     "data": {
      "text/plain": [
       "array([[ 1.        ,  0.0874779 , -0.95363007],\n",
       "       [ 0.0874779 ,  1.        , -0.11878687],\n",
       "       [-0.95363007, -0.11878687,  1.        ]])"
      ]
     },
     "execution_count": 153,
     "metadata": {},
     "output_type": "execute_result"
    }
   ],
   "source": [
    "# Maxima and Minima (discussed already)\n",
    "\n",
    "# Percentiles\n",
    "a = np.array([[0.,0.6,1.2],[1.8,2.4,3.0]])\n",
    "np.percentile(a,50) \n",
    "# the above returns a specified percentile of the data along an axis (or along a flattened version of the array if no axis is given). The median is the value at 50th percentile. Where no single value in the array corresponds to the requested percentile value exactly, a weighted average of the two nearest values is used. \n",
    "\n",
    "np.percentile(a,75)\n",
    "np.percentile(a,50,axis=1)\n",
    "np.percentile(a,75,axis=1)\n",
    "\n",
    "#sum\n",
    "np.sum(a) #sum up all values in the array\n",
    "\n",
    "# Averages\n",
    "x = np.array([1.,4.,9.,16.])\n",
    "np.mean(x)\n",
    "np.median(x)\n",
    "np.average(x,weights=[0.,3.,1.,0])\n",
    "\n",
    "x = np.array([[1.,8.,27],[-0.5,1.,0.]])\n",
    "av,sw = np.average(x,weights=[0.,1.,0.1],axis=1,returned=True)\n",
    "# av is the weighted average of each row, and sw is the sum of the weights. \n",
    "\n",
    "# Standard Deviations and Variances\n",
    "x = np.array([1.,2.,3.,4.])\n",
    "np.std(x) # or x.std(), uncorrected standard deviation\n",
    "np.std(x,ddof=1) # corrected standard deviation\n",
    "\n",
    "# The covariance is returnd by the np.cov method\n",
    "X = np.array([[0.1,0.3,0.4,0.8,0.9],\n",
    "            [3.2,2.4,2.4,0.1,5.5],\n",
    "            [10.,8.2,4.3,2.6,0.9]])\n",
    "\n",
    "np.cov(X) # This covariance matrix is a 3x3 array of values\n",
    "# The diagonal elements are the variances in the vairable x, assuming N-1 degrees of freedom\n",
    "np.var(X,axis=1,ddof=1)\n",
    "\n",
    "# The correlation coefficient matrix is often used in preference to the covariance matrix as it is normalized. \n",
    "np.corrcoef(X)"
   ]
  },
  {
   "cell_type": "markdown",
   "metadata": {},
   "source": [
    "## Linear Algebra"
   ]
  },
  {
   "cell_type": "code",
   "execution_count": 215,
   "metadata": {},
   "outputs": [
    {
     "data": {
      "text/plain": [
       "array([[ 3.00000000e+00, -2.00000000e+00,  5.89196072e-16],\n",
       "       [-2.00000000e+00,  1.00000000e+00, -3.00000000e+00],\n",
       "       [ 4.00000000e+00,  6.00000000e+00,  1.00000000e+00]])"
      ]
     },
     "execution_count": 215,
     "metadata": {},
     "output_type": "execute_result"
    }
   ],
   "source": [
    "# Basic Matrix Operations\n",
    "A = np.array([[0,0.5],[-1,2]])\n",
    "A*5 #Scalar multiplication\n",
    "np.sin(A) #calculate sin of all array values\n",
    "np.exp(A) #calculate the exponents of all array values\n",
    "B = np.array([[2,-0.5],[3,1.5]])\n",
    "A.dot(B) # or np.dot(A,B): matrix (dot) product or A@B\n",
    "A*B # elementwise multiplication\n",
    "A.transpose() # or A.T\n",
    "\n",
    "#Identity Matrix\n",
    "np.eye(3)\n",
    "C = np.identity(3) # has determinant of 1\n",
    "np.linalg.det(C)\n",
    "\n",
    "# Raise a matrix to an (integer) power. It requires a method from the np.linalg submodule\n",
    "np.linalg.matrix_power(A,3) # the same as A@A@A\n",
    "# Note that the ** operator performs elementwise exponentiation:\n",
    "A**3 # the same as A*A*A\n",
    "\n",
    "#np.linalg.norm returns the norm of a matrix or vector. \n",
    "np.linalg.norm(A)\n",
    "\n",
    "#np.linalg.det returns the determinant of a matrix\n",
    "np.linalg.det(A)\n",
    "\n",
    "#np.trace returns its trace - the sume of its diagonal elements\n",
    "np.trace(A)\n",
    "\n",
    "#np.linalg.inv find the inverse of a square matrix. An error will be thrown out if the matrix is non-invertible (singular matrix).\n",
    "np.linalg.inv(A)\n",
    "\n",
    "B = np.array([[2,4],[2,4]]) # a non-invertible matrix\n",
    "np.linalg.pinv(B) #use pinv method instead to avoid the error\n",
    "\n",
    "# Eigenvalues and Eigenvectors\n",
    "vals,vecs=np.linalg.eig(A)\n",
    "vals\n",
    "vecs\n",
    "\n",
    "# Solving a set of linear scalar equations that are expressed as the Matrix equation Mx=b\n",
    "M = np.array([[3,-2,0],[-2,1,-3],[4,6,1]])\n",
    "b = np.array([8,-20,7])\n",
    "np.linalg.solve(M,b) # if no unique solution exists (for nonsquare or singular matrix, M), an error is raised. \n",
    "\n",
    "# np.linalg.svd returns the singular value decomposition (SVD) of a matrix, M, as the arrays, U, D and V, satisfying M=U@np.diag(D)@V. \n",
    "U,D,V=np.linalg.svd(M)\n",
    "M_restructed=U@np.diag(D)@V\n",
    "M_restructed\n"
   ]
  },
  {
   "cell_type": "markdown",
   "metadata": {},
   "source": [
    "## Calculus\n"
   ]
  },
  {
   "cell_type": "code",
   "execution_count": 217,
   "metadata": {},
   "outputs": [
    {
     "data": {
      "text/plain": [
       "0.09090909090909083"
      ]
     },
     "execution_count": 217,
     "metadata": {},
     "output_type": "execute_result"
    }
   ],
   "source": [
    "# Integrals and derivatives\n",
    "x = np.linspace(1,10,100)\n",
    "y = 1/x**2 * np.sin(x)\n",
    "dydx = np.gradient(y,x)\n",
    "y_integral = np.cumsum(y)*(x[1]-x[0]) # or the interval can also be expressed as np.diff(x)[0]\n",
    "np.diff(x)[0]"
   ]
  },
  {
   "cell_type": "markdown",
   "metadata": {},
   "source": [
    "***Practice Problem #4***\n",
    "\n",
    "Let $y=e^{-x/10}\\sin(x)$. Consider 10000 $x$ intervals in the range [0,10]\n",
    "1. Plot the function $y$ vs. $x$ in the range [0,10]\n",
    "1. compute the mean and standard deviation of $y$ for $x$ values in [4,7]\n",
    "1. For $x$ in the range [4,7], find the value $y_m$ such that 80% of $y$ values are less than $y_m$\n",
    "1. Plot $dy/dx$ vs. $x$\n",
    "1. Find the locations where $dy/dx=0$"
   ]
  },
  {
   "cell_type": "code",
   "execution_count": 227,
   "metadata": {},
   "outputs": [
    {
     "data": {
      "text/plain": [
       "array([1.472, 4.613, 7.755])"
      ]
     },
     "execution_count": 227,
     "metadata": {},
     "output_type": "execute_result"
    },
    {
     "data": {
      "image/png": "[encoded data removed]",
      "text/plain": [
       "<Figure size 432x288 with 1 Axes>"
      ]
     },
     "metadata": {
      "needs_background": "light"
     },
     "output_type": "display_data"
    }
   ],
   "source": [
    "import matplotlib.pyplot as plt\n",
    "%matplotlib inline\n",
    "#1\n",
    "N = 10000\n",
    "x = np.linspace(0,10,N+1)\n",
    "y = np.exp(-x/10)*np.sin(x)\n",
    "plt.plot(x,y)\n",
    "\n",
    "#2\n",
    "np.mean(y[(x>=4)*(x<=7)]) # You can also use @ to express \"and\", as follows:\n",
    "np.std(y[(x>=4)&(x<=7)]) \n",
    "\n",
    "#3\n",
    "np.percentile(y[(x>=4)&(x<=7)],80)\n",
    "\n",
    "#4\n",
    "plt.plot(x,np.gradient(y,x))\n",
    "\n",
    "#5\n",
    "dydx=np.gradient(y,x)\n",
    "x[1:][dydx[1:]*dydx[:-1]<0]"
   ]
  },
  {
   "cell_type": "markdown",
   "metadata": {},
   "source": [
    "***Practice Problem #5***\n",
    "\n",
    "Sum together every number from 0 to 10000 except those that can be divided by 4 or 7. Do this in one line of code if possible."
   ]
  },
  {
   "cell_type": "code",
   "execution_count": 228,
   "metadata": {},
   "outputs": [
    {
     "data": {
      "text/plain": [
       "32147142"
      ]
     },
     "execution_count": 228,
     "metadata": {},
     "output_type": "execute_result"
    }
   ],
   "source": [
    "np.arange(0,10001,1)[(np.arange(0,10001,1)%4!=0)&(np.arange(0,10001,1)%7!=0)].sum()"
   ]
  },
  {
   "cell_type": "markdown",
   "metadata": {},
   "source": [
    "## Random Sampling\n",
    "NumPy's random module provides methods for obtaining random numbers from any of several distributions as well as convenient ways to choose random entries from an array and to randomly shuffle the contents of an array. "
   ]
  },
  {
   "cell_type": "code",
   "execution_count": 214,
   "metadata": {},
   "outputs": [
    {
     "data": {
      "text/plain": [
       "array([[0, 1],\n",
       "       [2, 3],\n",
       "       [4, 5]])"
      ]
     },
     "execution_count": 214,
     "metadata": {},
     "output_type": "execute_result"
    }
   ],
   "source": [
    "#np.random.randint\n",
    "np.random.seed(42)\n",
    "np.random.randint(1,10,10) # 10 random integers in [1,10)\n",
    "\n",
    "# Uniformly distributed random numbers\n",
    "\n",
    "# Random floating-point numbers\n",
    "np.random.random_sample((3,2)) #uniform distribution over [0,1)\n",
    "# If you want numbers sampled from uniform distribution over [a,b), you need to do a bit of work:\n",
    "a,b=10,20\n",
    "a+(b-a)*np.random.random_sample((3,2))\n",
    "# np.random.rand method is similar, but is passed the dimensions of the desired array as separate arguments\n",
    "np.random.rand(3,2)\n",
    "\n",
    "# Random integers\n",
    "np.random.randint(4) # random integer from [0,4)\n",
    "np.random.randint(4,size=10) # 10 random integers from [0,4)\n",
    "np.random.randint(4,size=(3,5)) # array of random integers from [0,4)\n",
    "np.random.randint(1,4,(3,5)) # array of random integers from [1,4)\n",
    "#np.random.randint can be useful for selecting random elements (with replacement) from an array by picking random indexes:\n",
    "a = np.array([6,6,6,7,7,7,7,7,7])\n",
    "a[np.random.randint(len(a),size=5)]\n",
    "# np.random.randintegers has the same syntax but returns integers sampled from uniform distribution over the closed interval [low,high]\n",
    "\n",
    "# Normal Distribution\n",
    "\n",
    "np.random.normal()\n",
    "np.random.normal(scale=5.,size=3)\n",
    "np.random.normal(100.,8.,size=(4,2))\n",
    "\n",
    "np.random.randn(2,2) # mu=0,sigma=1. It does not provide a way to set the mean and std explicitly, but the distribution can be easily rescaled as follows:\n",
    "mu,sigma=100.,8.\n",
    "mu+sigma*np.random.randn(4,2)\n",
    "\n",
    "# Binomial Distribution np.random.binomial(n,p): n independent experiments and p is the probability of a single particular outcome\n",
    "np.random.binomial(4,0.5)\n",
    "np.random.binomial(4,0.5,(4,4))\n",
    "\n",
    "# Poisson Distribution np.random.poisson takes lambda as its first argument (which defaults to 1) and the shape of the desired array of samples can be specified with a second argument, size. For example, if I receive an average of 2.5 emails an hour, a sample of the number of emails I receive each hour over the next 8 hours could be obtained as:\n",
    "np.random.poisson(2.5,8)\n",
    "\n",
    "# Random Selections, Shuffling and Permutations\n",
    "np.random.choice([1,5,2,-5,5,2,0])\n",
    "np.random.choice(np.arange(10))\n",
    "\n",
    "a = np.array([1,2,0,-1,1])\n",
    "np.random.choice(a,6) # six random selections from a\n",
    "np.random.choice(a,(2,2),replace=False) \n",
    "np.random.choice(a,(3,2)) #np.random.choice(a,(3,2),replace=False) will throw out an error, because it cannot take a larger sample than population if you are sampling without replacement\n",
    "\n",
    "# You can specify the probability of each element being selected. To do this, pass a sequence of the same length as the population to be sampled as argument p. The probabilities should sum to 1. \n",
    "np.random.choice(a,5,p=[0.1,0.1,0,0.7,0.1])\n",
    "np.random.choice(a,2,False,p=[0.1,0.1,0,0.8,0]) # sample without replacement\n",
    "\n",
    "# Two methods for permuting the contents of an array: np.random.shuffle randomly rearranges the order the elements in place whereas np.random.permutation makes a copy of the array first, leaving the original unchanged. \n",
    "a = np.arange(6)\n",
    "np.random.permutation(a)\n",
    "a\n",
    "np.random.shuffle(a)\n",
    "a\n",
    "a = np.arange(6).reshape(3,2)\n",
    "np.random.shuffle(a) # The method only act on the first dimension of the array\n",
    "np.random.permutation(a) # permutes the rows, but not the columns\n",
    "a\n"
   ]
  },
  {
   "cell_type": "code",
   "execution_count": null,
   "metadata": {},
   "outputs": [],
   "source": []
  }
 ],
 "metadata": {
  "interpreter": {
   "hash": "5192a91fef35d7a0cb0b89c889d70296233ca811b238617201211c8ee3cce111"
  },
  "kernelspec": {
   "display_name": "Python 3.8.8 64-bit ('base': conda)",
   "language": "python",
   "name": "python3"
  },
  "language_info": {
   "codemirror_mode": {
    "name": "ipython",
    "version": 3
   },
   "file_extension": ".py",
   "mimetype": "text/x-python",
   "name": "python",
   "nbconvert_exporter": "python",
   "pygments_lexer": "ipython3",
   "version": "3.8.8"
  },
  "orig_nbformat": 4
 },
 "nbformat": 4,
 "nbformat_minor": 2
}
